{
 "cells": [
  {
   "cell_type": "markdown",
   "metadata": {},
   "source": [
    "## Matemática A - 10.º Ano\n",
    "### Paulo Coelho\n",
    "\n",
    "# Transformações de Funções\n",
    "\n",
    "Considere-se uma função $f:\\mathbb{R}\\to\\mathbb{R}$, de domínio $D_f=[-6,8]$, cujo gráfico cartesiano se encontra representado na figura seguinte. \n",
    "\n",
    "![alt text](fig01.png)\n",
    "\n",
    "A função $g:\\mathbb{R}\\to\\mathbb{R}$ é definida por $g(x)=af(bx+h)+k, \\ a,b,h,k\\in\\mathbb{R}$. \n",
    "\n",
    "Note-se que para $a=b=1$ e $h=k=0$ se tem que $f=g$."
   ]
  },
  {
   "cell_type": "code",
   "execution_count": 1,
   "metadata": {},
   "outputs": [
    {
     "data": {
      "text/html": [
       "\n",
       "        <iframe\n",
       "            width=\"1000\"\n",
       "            height=\"600\"\n",
       "            src=\"https://www.geogebra.org/classic/y64uxs85\"\n",
       "            frameborder=\"0\"\n",
       "            allowfullscreen\n",
       "            \n",
       "        ></iframe>\n",
       "        "
      ],
      "text/plain": [
       "<IPython.lib.display.IFrame object at 0x1568a1850>"
      ]
     },
     "execution_count": 1,
     "metadata": {},
     "output_type": "execute_result"
    }
   ],
   "source": [
    "from IPython.display import IFrame\n",
    "IFrame(\"https://www.geogebra.org/classic/y64uxs85\",1000,600)"
   ]
  },
  {
   "cell_type": "markdown",
   "metadata": {},
   "source": [
    "### 1. $g_k(x)=f(x)+k, k\\in\\mathbb{R}$\n",
    "\n",
    "Pretende-se estudar de que forma o parâmetro $k\\in\\mathbb{R}$ altera o gráfico da função $f$, permitindo obter o gráfico da função $g_k$.\n",
    "\n",
    "Para o efeito atribui valores distintos ao parâmetro $k$ (recorre à apliqueta do GeoGebra abaixo).\n",
    "\n",
    "**Trabalha com a apliqueta em modo \"Tela Cheia\"** *Canto inferior direito da apliqueta*"
   ]
  },
  {
   "cell_type": "code",
   "execution_count": 2,
   "metadata": {},
   "outputs": [
    {
     "data": {
      "text/html": [
       "\n",
       "        <iframe\n",
       "            width=\"1000\"\n",
       "            height=\"600\"\n",
       "            src=\"https://www.geogebra.org/classic/dqypa6js\"\n",
       "            frameborder=\"0\"\n",
       "            allowfullscreen\n",
       "            \n",
       "        ></iframe>\n",
       "        "
      ],
      "text/plain": [
       "<IPython.lib.display.IFrame object at 0x1568d8a90>"
      ]
     },
     "execution_count": 2,
     "metadata": {},
     "output_type": "execute_result"
    }
   ],
   "source": [
    "from IPython.display import IFrame\n",
    "IFrame(\"https://www.geogebra.org/classic/dqypa6js\",1000,600)"
   ]
  },
  {
   "cell_type": "markdown",
   "metadata": {},
   "source": [
    "*Sendo* $g_k(x)=f(x)+k, k\\in\\mathbb{R}$:\n",
    "\n",
    "1. Visualiza o gráfico da função $g_2$. Indica $D_{g_2}$, $D'_{g_2}$ e compara com $D_f$ e $D'_f$.\n",
    "2. Qual o tipo de transformação que permite obter o gráfico de $g_2$ a partir do gráfico de $f$.\n",
    "3. Generaliza o efeito do parâmetro $k$ na transformação de $f$ em $g_k$."
   ]
  },
  {
   "cell_type": "markdown",
   "metadata": {},
   "source": [
    "### 2. $g_h(x)=f(x+h), h\\in\\mathbb{R}$\n",
    "\n",
    "Pretende-se estudar de que forma o parâmetro $h\\in\\mathbb{R}$ altera o gráfico da função $f$, permitindo obter o gráfico da função $g_h$.\n",
    "\n",
    "Para o efeito atribui valores distintos ao parâmetro $h$ (recorre à apliqueta do GeoGebra abaixo).\n",
    "\n",
    "**Trabalha com a apliqueta em modo \"Tela Cheia\"** *Canto inferior direito da apliqueta*"
   ]
  },
  {
   "cell_type": "code",
   "execution_count": 3,
   "metadata": {},
   "outputs": [
    {
     "data": {
      "text/html": [
       "\n",
       "        <iframe\n",
       "            width=\"1000\"\n",
       "            height=\"600\"\n",
       "            src=\"https://www.geogebra.org/classic/w8feu3ww\"\n",
       "            frameborder=\"0\"\n",
       "            allowfullscreen\n",
       "            \n",
       "        ></iframe>\n",
       "        "
      ],
      "text/plain": [
       "<IPython.lib.display.IFrame object at 0x1568a1d30>"
      ]
     },
     "execution_count": 3,
     "metadata": {},
     "output_type": "execute_result"
    }
   ],
   "source": [
    "from IPython.display import IFrame\n",
    "IFrame(\"https://www.geogebra.org/classic/w8feu3ww\",1000,600)"
   ]
  },
  {
   "cell_type": "markdown",
   "metadata": {},
   "source": [
    "*Sendo* $g_h(x)=f(x+h), h\\in\\mathbb{R}$:\n",
    "\n",
    "1. Visualiza os gráficos das funções $g_3$ e $g_{-3}$. O que se pode concluir?\n",
    "2. O ponto $A(\\frac{1}{2},\\frac{7}{4})$ pertence a $G_f$. Se $B$ é o transformado do ponto $A$ quando se passa da função $f$ para a função $g_{-2}$, quais são as coordenadas de $B$? Verifica a tua resposta escrevendo as coordenadas do ponto $B$ no \"Campo de Entrada\" da apliqueta.\n",
    "3. Generaliza o efeito do parâmetro $h$ na transformação de $f$ em $g_h$."
   ]
  },
  {
   "cell_type": "markdown",
   "metadata": {},
   "source": [
    "### 3. $g_a(x)=af(x), a\\in\\mathbb{R}$\n",
    "\n",
    "Pretende-se estudar de que forma o parâmetro $a\\in\\mathbb{R}$ altera o gráfico da função $f$, permitindo obter o gráfico da função $g_a$.\n",
    "\n",
    "Para o efeito atribui valores distintos ao parâmetro $a$ (recorre à apliqueta do GeoGebra abaixo).\n",
    "\n",
    "**Trabalha com a apliqueta em modo \"Tela Cheia\"** *Canto inferior direito da apliqueta*"
   ]
  },
  {
   "cell_type": "code",
   "execution_count": 4,
   "metadata": {},
   "outputs": [
    {
     "data": {
      "text/html": [
       "\n",
       "        <iframe\n",
       "            width=\"1000\"\n",
       "            height=\"600\"\n",
       "            src=\"https://www.geogebra.org/classic/tee4hj24\"\n",
       "            frameborder=\"0\"\n",
       "            allowfullscreen\n",
       "            \n",
       "        ></iframe>\n",
       "        "
      ],
      "text/plain": [
       "<IPython.lib.display.IFrame object at 0x1568a1910>"
      ]
     },
     "execution_count": 4,
     "metadata": {},
     "output_type": "execute_result"
    }
   ],
   "source": [
    "from IPython.display import IFrame\n",
    "IFrame(\"https://www.geogebra.org/classic/tee4hj24\",1000,600)"
   ]
  },
  {
   "cell_type": "markdown",
   "metadata": {},
   "source": [
    "*Sendo* $g_a(x)=af(x), a\\in\\mathbb{R}$:\n",
    "\n",
    "1. Visualiza os gráficos das funções $g_1$ e $g_{-1}$. O que se pode concluir?\n",
    "2. Visualiza os gráficos das funções $g_2$, $g_{0.5}$, $g_{-2}$, $g_{-0.5}$. O que se pode concluir?\n",
    "3. O ponto $A(\\frac{1}{2},\\frac{7}{4})$ pertence a $G_f$. Se $B$ é o transformado do ponto $A$ quando se passa da função $f$ para a função $g_{-2}$, quais são as coordenadas de $B$? Verifica a tua resposta escrevendo as coordenadas do ponto $B$ no \"Campo de Entrada\" da apliqueta.\n",
    "3. Generaliza o efeito do parâmetro $a$ na transformação de $f$ em $g_a$."
   ]
  },
  {
   "cell_type": "markdown",
   "metadata": {},
   "source": [
    "### 4. $g_b(x)=f(bx), b\\in\\mathbb{R}$\n",
    "\n",
    "Pretende-se estudar de que forma o parâmetro $b\\in\\mathbb{R}$ altera o gráfico da função $f$, permitindo obter o gráfico da função $g_b$.\n",
    "\n",
    "Para o efeito atribui valores distintos ao parâmetro $a$ (recorre à apliqueta do GeoGebra abaixo).\n",
    "\n",
    "**Trabalha com a apliqueta em modo \"Tela Cheia\"** *Canto inferior direito da apliqueta*"
   ]
  },
  {
   "cell_type": "code",
   "execution_count": 5,
   "metadata": {},
   "outputs": [
    {
     "data": {
      "text/html": [
       "\n",
       "        <iframe\n",
       "            width=\"1000\"\n",
       "            height=\"600\"\n",
       "            src=\"https://www.geogebra.org/classic/y64uxs85\"\n",
       "            frameborder=\"0\"\n",
       "            allowfullscreen\n",
       "            \n",
       "        ></iframe>\n",
       "        "
      ],
      "text/plain": [
       "<IPython.lib.display.IFrame object at 0x1568d8e80>"
      ]
     },
     "execution_count": 5,
     "metadata": {},
     "output_type": "execute_result"
    }
   ],
   "source": [
    "from IPython.display import IFrame\n",
    "IFrame(\"https://www.geogebra.org/classic/y64uxs85\",1000,600)"
   ]
  },
  {
   "cell_type": "markdown",
   "metadata": {},
   "source": [
    "*Sendo* $g_b(x)=f(bx), b\\in\\mathbb{R}$:\n",
    "\n",
    "1. Visualiza os gráficos das funções $g_1$ e $g_{-1}$. O que se pode concluir?\n",
    "2. Visualiza os gráficos das funções $g_2$, $g_{0.5}$, $g_{-2}$, $g_{-0.5}$. O que se pode concluir?\n",
    "3. O ponto $A(\\frac{1}{2},\\frac{7}{4})$ pertence a $G_f$. Se $B$ é o transformado do ponto $A$ quando se passa da função $f$ para a função $g_{-2}$, quais são as coordenadas de $B$? Verifica a tua resposta escrevendo as coordenadas do ponto $B$ no \"Campo de Entrada\" da apliqueta.\n",
    "3. Generaliza o efeito do parâmetro $b$ na transformação de $f$ em $g_b$."
   ]
  },
  {
   "cell_type": "markdown",
   "metadata": {},
   "source": [
    "### 5. $g(x)=af(bx+h)+k, a, b, h, k\\in\\mathbb{R}$\n",
    "\n",
    "Qual o efeito dos diversos parâmetros $a,b,h$ e $k$?\n",
    "\n",
    "Atribui valores distintos aos parâmetro $a,b,h, k$ na apliqueta do GeoGebra abaixo.\n",
    "\n",
    "**Trabalha com a apliqueta em modo \"Tela Cheia\"** *Canto inferior direito da apliqueta*"
   ]
  },
  {
   "cell_type": "code",
   "execution_count": 6,
   "metadata": {},
   "outputs": [
    {
     "data": {
      "text/html": [
       "\n",
       "        <iframe\n",
       "            width=\"1000\"\n",
       "            height=\"600\"\n",
       "            src=\"https://www.geogebra.org/classic/yduncgsm\"\n",
       "            frameborder=\"0\"\n",
       "            allowfullscreen\n",
       "            \n",
       "        ></iframe>\n",
       "        "
      ],
      "text/plain": [
       "<IPython.lib.display.IFrame object at 0x1568d8df0>"
      ]
     },
     "execution_count": 6,
     "metadata": {},
     "output_type": "execute_result"
    }
   ],
   "source": [
    "from IPython.display import IFrame\n",
    "IFrame(\"https://www.geogebra.org/classic/yduncgsm\",1000,600)"
   ]
  },
  {
   "cell_type": "markdown",
   "metadata": {},
   "source": [
    "5. Elabora um relatório com um resumo das transformações obtidas a partir do gráfico cartesiano da função $f$ quando se varia cada um dos parâmetros $a$, $b$, $h$ e $k$. Deves referir o tipo de transformação e as possíveis alterações no domínio e no contradominio."
   ]
  },
  {
   "cell_type": "markdown",
   "metadata": {},
   "source": [
    "# Estudo da função quadrática:\n",
    "## $q(x)=a(x-h)^2+k$ , $a\\in\\mathbb{R}\\setminus\\{0\\}$\n",
    "\n",
    "Explora o gráfico abaixo, utilizando os \"sliders\" associados aos parâmetro $a$, $h$ e $k$.\n",
    "Qual o efeito de cada um dos parâmetros no gráfico da função $q$? Elabora um relatório com as tuas conclusões."
   ]
  },
  {
   "cell_type": "code",
   "execution_count": 8,
   "metadata": {},
   "outputs": [
    {
     "data": {
      "application/vnd.jupyter.widget-view+json": {
       "model_id": "cc00bd8bf56a4301a50d23e1b4370142",
       "version_major": 2,
       "version_minor": 0
      },
      "text/plain": [
       "Interactive function <function _ at 0x1568d6d30> with 3 widgets\n",
       "  a: SelectionSlider(description='a', options=…"
      ]
     },
     "metadata": {},
     "output_type": "display_data"
    }
   ],
   "source": [
    "@interact\n",
    "def _(a=slider([-4 .. 4]), h=slider([-4 .. 4]), k=slider([-5 .. 5])):\n",
    "    show(plot(a*(x-h)^2+k, (x,-15,15), ymin=-20, ymax=20, thickness=3, color='black', title='Função quadrática: $q(x)=a(x-h)^2+k$'))\n"
   ]
  },
  {
   "cell_type": "code",
   "execution_count": null,
   "metadata": {},
   "outputs": [],
   "source": []
  }
 ],
 "metadata": {
  "kernelspec": {
   "display_name": "SageMath 9.5",
   "language": "sage",
   "name": "sagemath-9.5"
  },
  "language_info": {
   "codemirror_mode": {
    "name": "ipython",
    "version": 3
   },
   "file_extension": ".py",
   "mimetype": "text/x-python",
   "name": "python",
   "nbconvert_exporter": "python",
   "pygments_lexer": "ipython3",
   "version": "3.9.9"
  }
 },
 "nbformat": 4,
 "nbformat_minor": 4
}
