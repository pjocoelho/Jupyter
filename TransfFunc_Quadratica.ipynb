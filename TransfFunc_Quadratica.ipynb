{
 "cells": [
  {
   "cell_type": "markdown",
   "metadata": {},
   "source": [
    "## Matemática A - 10.º Ano\n",
    "### Paulo Coelho\n",
    "\n",
    "# Transformações de Funções\n",
    "\n",
    "Considere-se uma função $f:\\mathbb{R}\\to\\mathbb{R}$, de domínio $D_f=[-6,8]$, cujo gráfico cartesiano se encontra representado na figura seguinte. \n",
    "\n",
    "![alt text](fig01.png)\n",
    "\n",
    "A função $g:\\mathbb{R}\\to\\mathbb{R}$ é definida por $g(x)=af(bx+h)+k, \\ a,b,h,k\\in\\mathbb{R}$. \n",
    "\n",
    "Note-se que para $a=b=1$ e $h=k=0$ se tem que $f=g$."
   ]
  },
  {
   "cell_type": "code",
   "execution_count": 1,
   "metadata": {},
   "outputs": [
    {
     "data": {
      "text/html": [
       "\n",
       "        <iframe\n",
       "            width=\"1000\"\n",
       "            height=\"600\"\n",
       "            src=\"https://www.geogebra.org/classic/y64uxs85\"\n",
       "            frameborder=\"0\"\n",
       "            allowfullscreen\n",
       "        ></iframe>\n",
       "        "
      ],
      "text/plain": [
       "<IPython.lib.display.IFrame object at 0x6ffee030cd50>"
      ]
     },
     "execution_count": 1,
     "metadata": {},
     "output_type": "execute_result"
    }
   ],
   "source": [
    "from IPython.display import IFrame\n",
    "IFrame(\"https://www.geogebra.org/classic/y64uxs85\",1000,600)"
   ]
  },
  {
   "cell_type": "markdown",
   "metadata": {},
   "source": [
    "### 1. $g_k(x)=f(x)+k, k\\in\\mathbb{R}$\n",
    "\n",
    "Pretende-se estudar de que forma o parâmetro $k\\in\\mathbb{R}$ altera o gráfico da função $f$, permitindo obter o gráfico da função $g_k$.\n",
    "\n",
    "Para o efeito atribui valores distintos ao parâmetro $k$ (recorre à apliqueta do GeoGebra abaixo).\n",
    "\n",
    "**Trabalha com a apliqueta em modo \"Tela Cheia\"** *Canto inferior direito da apliqueta*"
   ]
  },
  {
   "cell_type": "code",
   "execution_count": 2,
   "metadata": {},
   "outputs": [
    {
     "data": {
      "text/html": [
       "\n",
       "        <iframe\n",
       "            width=\"1000\"\n",
       "            height=\"600\"\n",
       "            src=\"https://www.geogebra.org/classic/dqypa6js\"\n",
       "            frameborder=\"0\"\n",
       "            allowfullscreen\n",
       "        ></iframe>\n",
       "        "
      ],
      "text/plain": [
       "<IPython.lib.display.IFrame object at 0x6ffedd1e4690>"
      ]
     },
     "execution_count": 2,
     "metadata": {},
     "output_type": "execute_result"
    }
   ],
   "source": [
    "from IPython.display import IFrame\n",
    "IFrame(\"https://www.geogebra.org/classic/dqypa6js\",1000,600)"
   ]
  },
  {
   "cell_type": "markdown",
   "metadata": {},
   "source": [
    "*Sendo* $g_k(x)=f(x)+k, k\\in\\mathbb{R}$:\n",
    "\n",
    "1. Visualiza o gráfico da função $g_2$. Indica $D_{g_2}$, $D'_{g_2}$ e compara com $D_f$ e $D'_f$.\n",
    "2. Qual o tipo de transformação que permite obter o gráfico de $g_2$ a partir do gráfico de $f$.\n",
    "3. Generaliza o efeito do parâmetro $k$ na transformação de $f$ em $g_k$."
   ]
  },
  {
   "cell_type": "markdown",
   "metadata": {},
   "source": [
    "### 2. $g_h(x)=f(x+h), h\\in\\mathbb{R}$\n",
    "\n",
    "Pretende-se estudar de que forma o parâmetro $h\\in\\mathbb{R}$ altera o gráfico da função $f$, permitindo obter o gráfico da função $g_h$.\n",
    "\n",
    "Para o efeito atribui valores distintos ao parâmetro $h$ (recorre à apliqueta do GeoGebra abaixo).\n",
    "\n",
    "**Trabalha com a apliqueta em modo \"Tela Cheia\"** *Canto inferior direito da apliqueta*"
   ]
  },
  {
   "cell_type": "code",
   "execution_count": 3,
   "metadata": {},
   "outputs": [
    {
     "data": {
      "text/html": [
       "\n",
       "        <iframe\n",
       "            width=\"1000\"\n",
       "            height=\"600\"\n",
       "            src=\"https://www.geogebra.org/classic/w8feu3ww\"\n",
       "            frameborder=\"0\"\n",
       "            allowfullscreen\n",
       "        ></iframe>\n",
       "        "
      ],
      "text/plain": [
       "<IPython.lib.display.IFrame object at 0x6ffedd1fdc90>"
      ]
     },
     "execution_count": 3,
     "metadata": {},
     "output_type": "execute_result"
    }
   ],
   "source": [
    "from IPython.display import IFrame\n",
    "IFrame(\"https://www.geogebra.org/classic/w8feu3ww\",1000,600)"
   ]
  },
  {
   "cell_type": "markdown",
   "metadata": {},
   "source": [
    "*Sendo* $g_h(x)=f(x+h), h\\in\\mathbb{R}$:\n",
    "\n",
    "1. Visualiza os gráficos das funções $g_3$ e $g_{-3}$. O que se pode concluir?\n",
    "2. O ponto $A(\\frac{1}{2},\\frac{7}{4})$ pertence a $G_f$. Se $B$ é o transformado do ponto $A$ quando se passa da função $f$ para a função $g_{-2}$, quais são as coordenadas de $B$? Verifica a tua resposta escrevendo as coordenadas do ponto $B$ no \"Campo de Entrada\" da apliqueta.\n",
    "3. Generaliza o efeito do parâmetro $h$ na transformação de $f$ em $g_h$."
   ]
  },
  {
   "cell_type": "markdown",
   "metadata": {},
   "source": [
    "### 3. $g_a(x)=af(x), a\\in\\mathbb{R}$\n",
    "\n",
    "Pretende-se estudar de que forma o parâmetro $a\\in\\mathbb{R}$ altera o gráfico da função $f$, permitindo obter o gráfico da função $g_a$.\n",
    "\n",
    "Para o efeito atribui valores distintos ao parâmetro $a$ (recorre à apliqueta do GeoGebra abaixo).\n",
    "\n",
    "**Trabalha com a apliqueta em modo \"Tela Cheia\"** *Canto inferior direito da apliqueta*"
   ]
  },
  {
   "cell_type": "code",
   "execution_count": 4,
   "metadata": {},
   "outputs": [
    {
     "data": {
      "text/html": [
       "\n",
       "        <iframe\n",
       "            width=\"1000\"\n",
       "            height=\"600\"\n",
       "            src=\"https://www.geogebra.org/classic/tee4hj24\"\n",
       "            frameborder=\"0\"\n",
       "            allowfullscreen\n",
       "        ></iframe>\n",
       "        "
      ],
      "text/plain": [
       "<IPython.lib.display.IFrame object at 0x6ffedd1fdc10>"
      ]
     },
     "execution_count": 4,
     "metadata": {},
     "output_type": "execute_result"
    }
   ],
   "source": [
    "from IPython.display import IFrame\n",
    "IFrame(\"https://www.geogebra.org/classic/tee4hj24\",1000,600)"
   ]
  },
  {
   "cell_type": "markdown",
   "metadata": {},
   "source": [
    "*Sendo* $g_a(x)=af(x), a\\in\\mathbb{R}$:\n",
    "\n",
    "1. Visualiza os gráficos das funções $g_1$ e $g_{-1}$. O que se pode concluir?\n",
    "2. Visualiza os gráficos das funções $g_2$, $g_{0.5}$, $g_{-2}$, $g_{-0.5}$. O que se pode concluir?\n",
    "3. O ponto $A(\\frac{1}{2},\\frac{7}{4})$ pertence a $G_f$. Se $B$ é o transformado do ponto $A$ quando se passa da função $f$ para a função $g_{-2}$, quais são as coordenadas de $B$? Verifica a tua resposta escrevendo as coordenadas do ponto $B$ no \"Campo de Entrada\" da apliqueta.\n",
    "3. Generaliza o efeito do parâmetro $a$ na transformação de $f$ em $g_a$."
   ]
  },
  {
   "cell_type": "markdown",
   "metadata": {},
   "source": [
    "### 4. $g_b(x)=f(bx), b\\in\\mathbb{R}$\n",
    "\n",
    "Pretende-se estudar de que forma o parâmetro $b\\in\\mathbb{R}$ altera o gráfico da função $f$, permitindo obter o gráfico da função $g_b$.\n",
    "\n",
    "Para o efeito atribui valores distintos ao parâmetro $a$ (recorre à apliqueta do GeoGebra abaixo).\n",
    "\n",
    "**Trabalha com a apliqueta em modo \"Tela Cheia\"** *Canto inferior direito da apliqueta*"
   ]
  },
  {
   "cell_type": "code",
   "execution_count": 5,
   "metadata": {},
   "outputs": [
    {
     "data": {
      "text/html": [
       "\n",
       "        <iframe\n",
       "            width=\"1000\"\n",
       "            height=\"600\"\n",
       "            src=\"https://www.geogebra.org/classic/y64uxs85\"\n",
       "            frameborder=\"0\"\n",
       "            allowfullscreen\n",
       "        ></iframe>\n",
       "        "
      ],
      "text/plain": [
       "<IPython.lib.display.IFrame object at 0x6ffedd1fd510>"
      ]
     },
     "execution_count": 5,
     "metadata": {},
     "output_type": "execute_result"
    }
   ],
   "source": [
    "from IPython.display import IFrame\n",
    "IFrame(\"https://www.geogebra.org/classic/y64uxs85\",1000,600)"
   ]
  },
  {
   "cell_type": "markdown",
   "metadata": {},
   "source": [
    "*Sendo* $g_b(x)=f(bx), b\\in\\mathbb{R}$:\n",
    "\n",
    "1. Visualiza os gráficos das funções $g_1$ e $g_{-1}$. O que se pode concluir?\n",
    "2. Visualiza os gráficos das funções $g_2$, $g_{0.5}$, $g_{-2}$, $g_{-0.5}$. O que se pode concluir?\n",
    "3. O ponto $A(\\frac{1}{2},\\frac{7}{4})$ pertence a $G_f$. Se $B$ é o transformado do ponto $A$ quando se passa da função $f$ para a função $g_{-2}$, quais são as coordenadas de $B$? Verifica a tua resposta escrevendo as coordenadas do ponto $B$ no \"Campo de Entrada\" da apliqueta.\n",
    "3. Generaliza o efeito do parâmetro $b$ na transformação de $f$ em $g_b$."
   ]
  },
  {
   "cell_type": "markdown",
   "metadata": {},
   "source": [
    "### 5. $g(x)=af(bx+h)+k, a, b, h, k\\in\\mathbb{R}$\n",
    "\n",
    "Qual o efeito dos diversos parâmetros $a,b,h$ e $k$?\n",
    "\n",
    "Atribui valores distintos aos parâmetro $a,b,h, k$ na apliqueta do GeoGebra abaixo.\n",
    "\n",
    "**Trabalha com a apliqueta em modo \"Tela Cheia\"** *Canto inferior direito da apliqueta*"
   ]
  },
  {
   "cell_type": "code",
   "execution_count": 6,
   "metadata": {},
   "outputs": [
    {
     "data": {
      "text/html": [
       "\n",
       "        <iframe\n",
       "            width=\"1000\"\n",
       "            height=\"600\"\n",
       "            src=\"https://www.geogebra.org/classic/yduncgsm\"\n",
       "            frameborder=\"0\"\n",
       "            allowfullscreen\n",
       "        ></iframe>\n",
       "        "
      ],
      "text/plain": [
       "<IPython.lib.display.IFrame object at 0x6ffedf9a0f10>"
      ]
     },
     "execution_count": 6,
     "metadata": {},
     "output_type": "execute_result"
    }
   ],
   "source": [
    "from IPython.display import IFrame\n",
    "IFrame(\"https://www.geogebra.org/classic/yduncgsm\",1000,600)"
   ]
  },
  {
   "cell_type": "markdown",
   "metadata": {},
   "source": [
    "5. Elabora um relatório com um resumo das transformações obtidas a partir do gráfico cartesiano da função $f$ quando se varia cada um dos parâmetros $a$, $b$, $h$ e $k$. Deves referir o tipo de transformação e as possíveis alterações no domínio e no contradominio."
   ]
  },
  {
   "cell_type": "markdown",
   "metadata": {},
   "source": [
    "# Estudo da função quadrática:\n",
    "## $q(x)=a(x-h)^2+k$ , $a\\in\\mathbb{R}\\setminus\\{0\\}$\n",
    "\n",
    "Explora o gráfico abaixo, utilizando os \"sliders\" associados aos parâmetros $a$, $h$ e $k$.\n",
    "Qual o efeito de cada um dos parâmetros no gráfico da função $q$? Elabora um relatório com as tuas conclusões."
   ]
  },
  {
   "cell_type": "code",
   "execution_count": 7,
   "metadata": {},
   "outputs": [
    {
     "data": {
      "application/vnd.jupyter.widget-view+json": {
       "model_id": "a315b7ff507f4dd88657386c6404a0de",
       "version_major": 2,
       "version_minor": 0
      },
      "text/plain": [
       "Interactive function <function _ at 0x6ffedd190d40> with 3 widgets\n",
       "  a: SelectionSlider(description='a', optio…"
      ]
     },
     "metadata": {},
     "output_type": "display_data"
    }
   ],
   "source": [
    "@interact\n",
    "def _(a=slider([-4 .. 4]), h=slider([-4 .. 4]), k=slider([-5 .. 5])):\n",
    "    show(plot(a*(x-h)^2+k, (x,-15,15), ymin=-20, ymax=20, thickness=3, color='black', title='Função quadrática: $q(x)=a(x-h)^2+k$'))\n"
   ]
  }
 ],
 "metadata": {
  "kernelspec": {
   "display_name": "SageMath 9.2",
   "language": "sage",
   "name": "sagemath"
  },
  "language_info": {
   "codemirror_mode": {
    "name": "ipython",
    "version": 3
   },
   "file_extension": ".py",
   "mimetype": "text/x-python",
   "name": "python",
   "nbconvert_exporter": "python",
   "pygments_lexer": "ipython3",
   "version": "3.7.7"
  },
  "widgets": {
   "application/vnd.jupyter.widget-state+json": {
    "state": {
     "11315bddff79473aa28104d571561988": {
      "model_module": "@jupyter-widgets/base",
      "model_module_version": "1.2.0",
      "model_name": "LayoutModel",
      "state": {}
     },
     "13662869a3e64fd4ade110a240b6a0d4": {
      "model_module": "@jupyter-widgets/controls",
      "model_module_version": "1.5.0",
      "model_name": "SelectionSliderModel",
      "state": {
       "_options_labels": [
        "-4",
        "-3",
        "-2",
        "-1",
        "0",
        "1",
        "2",
        "3",
        "4"
       ],
       "description": "h",
       "index": 4,
       "layout": "IPY_MODEL_41db8fd97907416d9e7d3c6f7a8305cb",
       "style": "IPY_MODEL_91a73c04ef0b44b7b060b0120bf7d21b"
      }
     },
     "41db8fd97907416d9e7d3c6f7a8305cb": {
      "model_module": "@jupyter-widgets/base",
      "model_module_version": "1.2.0",
      "model_name": "LayoutModel",
      "state": {}
     },
     "52d38cccb087441490e2408b5a5b0f7d": {
      "model_module": "@jupyter-widgets/base",
      "model_module_version": "1.2.0",
      "model_name": "LayoutModel",
      "state": {}
     },
     "5be688cca37e494a81420adc839d680b": {
      "model_module": "@jupyter-widgets/controls",
      "model_module_version": "1.5.0",
      "model_name": "DescriptionStyleModel",
      "state": {
       "description_width": ""
      }
     },
     "7d8e709f45c94ba3b5df583b1a8233e2": {
      "model_module": "@jupyter-widgets/controls",
      "model_module_version": "1.5.0",
      "model_name": "DescriptionStyleModel",
      "state": {
       "description_width": ""
      }
     },
     "8903a4cc2b244e8782a071aa131033c1": {
      "model_module": "@jupyter-widgets/controls",
      "model_module_version": "1.5.0",
      "model_name": "VBoxModel",
      "state": {
       "_dom_classes": [
        "widget-interact"
       ],
       "children": [
        "IPY_MODEL_a1a0b3ca17314fa0a48435291361b0d4",
        "IPY_MODEL_13662869a3e64fd4ade110a240b6a0d4",
        "IPY_MODEL_db42a1da94f1487e917e78debd337591",
        "IPY_MODEL_b9c838a483d54304b3997fa006edeab5"
       ],
       "layout": "IPY_MODEL_11315bddff79473aa28104d571561988"
      }
     },
     "91a73c04ef0b44b7b060b0120bf7d21b": {
      "model_module": "@jupyter-widgets/controls",
      "model_module_version": "1.5.0",
      "model_name": "DescriptionStyleModel",
      "state": {
       "description_width": ""
      }
     },
     "a1a0b3ca17314fa0a48435291361b0d4": {
      "model_module": "@jupyter-widgets/controls",
      "model_module_version": "1.5.0",
      "model_name": "SelectionSliderModel",
      "state": {
       "_options_labels": [
        "-4",
        "-3",
        "-2",
        "-1",
        "0",
        "1",
        "2",
        "3",
        "4"
       ],
       "description": "a",
       "index": 5,
       "layout": "IPY_MODEL_52d38cccb087441490e2408b5a5b0f7d",
       "style": "IPY_MODEL_5be688cca37e494a81420adc839d680b"
      }
     },
     "b549f71f656c4674a841a4d492e332d5": {
      "model_module": "@jupyter-widgets/base",
      "model_module_version": "1.2.0",
      "model_name": "LayoutModel",
      "state": {}
     },
     "b9c838a483d54304b3997fa006edeab5": {
      "model_module": "@jupyter-widgets/output",
      "model_module_version": "1.0.0",
      "model_name": "OutputModel",
      "state": {
       "layout": "IPY_MODEL_b549f71f656c4674a841a4d492e332d5",
       "outputs": [
        {
         "data": {
          "image/png": "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\n",
          "text/plain": "Graphics object consisting of 1 graphics primitive"
         },
         "metadata": {},
         "output_type": "display_data"
        }
       ]
      }
     },
     "bc65e2a26965491fb1214f429449c91f": {
      "model_module": "@jupyter-widgets/base",
      "model_module_version": "1.2.0",
      "model_name": "LayoutModel",
      "state": {}
     },
     "db42a1da94f1487e917e78debd337591": {
      "model_module": "@jupyter-widgets/controls",
      "model_module_version": "1.5.0",
      "model_name": "SelectionSliderModel",
      "state": {
       "_options_labels": [
        "-5",
        "-4",
        "-3",
        "-2",
        "-1",
        "0",
        "1",
        "2",
        "3",
        "4",
        "5"
       ],
       "description": "k",
       "index": 5,
       "layout": "IPY_MODEL_bc65e2a26965491fb1214f429449c91f",
       "style": "IPY_MODEL_7d8e709f45c94ba3b5df583b1a8233e2"
      }
     }
    },
    "version_major": 2,
    "version_minor": 0
   }
  }
 },
 "nbformat": 4,
 "nbformat_minor": 4
}
